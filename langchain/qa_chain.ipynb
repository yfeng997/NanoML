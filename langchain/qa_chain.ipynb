{
 "cells": [
  {
   "cell_type": "code",
   "execution_count": 1,
   "metadata": {},
   "outputs": [],
   "source": [
    "from langchain.embeddings.openai import OpenAIEmbeddings\n",
    "from langchain.vectorstores import Chroma\n",
    "from langchain.text_splitter import CharacterTextSplitter\n",
    "from langchain.llms import OpenAI\n",
    "from langchain.chains import ConversationalRetrievalChain"
   ]
  },
  {
   "cell_type": "code",
   "execution_count": 2,
   "metadata": {},
   "outputs": [
    {
     "data": {
      "text/plain": [
       "[Document(page_content='China’s ‘Tesla Killer’ Stumbles as EV Price War Takes Toll\\nNIO is among Chinese startups burning more cash to compete in world’s largest electric-vehicle market\\n\\nSINGAPORE—Electric-car startup NIO NIO -0.36%decrease; red down pointing triangle was dubbed China’s “Tesla killer” when it unveiled a sport-utility vehicle in 2017 that offered a sleek design, large-screen panel and voice-command features—all at half the price of a Model X.\\n\\nOne of China’s most vaunted EV startups, NIO is now a symbol of the challenges many automakers face amid a cutthroat price war in the world’s largest electric-vehicle market. Its sales have slumped in recent months, prompting the carmaker to slash prices, cut back investment and commit to burning more cash.\\n\\nChief Executive William Li said this month that New York Stock Exchange-listed NIO has to prudently manage liquidity risks as weak sales in the past two quarters weighed on its operating cash flow. \\n\\nAn Abu Dhabi government-backed entity will invest around $740 million in NIO, the company said last week. Li said he expects sales to start rebounding in June as it recently launched a revamped SUV.\\n\\nNIO was slower than other automakers to cut prices, and its recent moves show how deeply the competition is hurting automakers’ bottom lines as well as rippling through supply chains. Some startups have been sidelined or killed after burning through cash in China’s crowded market, where the explosive growth of EV sales has slowed this year amid weak consumption and the end of nationwide subsidies for buyers.\\n\\nIndebted WM Motor earlier this year suspended most of its production, laid off employees and closed stores after running out of cash. The company is backed by Tencent Holdings and HongShan, which was formerly Sequoia Capital China. Letin Auto, famous for its $4,000 electric hatchback, filed for bankruptcy in May after failing to get new funds.\\n\\nXPeng, another popular U.S.-listed EV startup in China, has reported falling sales since September, despite offering more than 10% discounts on several vehicle models starting in January and launching a new model with more advanced self-driving capabilities. XPeng delivered almost 40% fewer cars so far this year than in the same period a year ago. \\n\\nThe company doesn’t have much time left to turn itself around as its net cash runs low while rivals catch up with its technology, according to a research note by analysts at CMB International, which downgraded the company’s stock in May.\\n\\nXPeng didn’t respond to requests for comment. \\n\\nOnce the darlings of investors looking for the next Tesla, EV companies globally are grappling with tighter liquidity, operating problems and intensified competition. American companies including Rivian Automotive and Lucid Group are among those facing rougher times as their cash reserves shrink. \\n\\nChina’s EV and hybrid-vehicle sales growth have slipped in recent quarters from the triple-digit percentages commonly seen in 2021 and much of 2022. Sales rose 41% in the first five months of this year compared with a year earlier, according to the China Passenger Car Association.\\n\\n“Not everyone can survive in the market,” said Joel Ying, an auto analyst at Nomura. Startups are more vulnerable than legacy carmakers, which typically have the gas-powered vehicle business as cash cows, he added.\\n\\nBeijing is finalizing a package of stimulus measures to revive the country’s flagging economy and consumption, The Wall Street Journal has reported. China’s finance ministry last week extended the tax exemption on purchases of EVs and hybrids to the end of 2025.\\n\\nThe country’s auto market is becoming more challenging for foreign brands, which are playing catch-up in the EV arena. Legacy automakers such as Ford Motor have flopped in China’s EV market, and Volkswagen—which dominated in gas-powered vehicles and sells popular EVs in other markets—has yet to have a model rank among the 10 top-selling EVs.\\n\\nTesla remains the No. 2 in the Chinese EV market, selling more than 200,000 cars to local buyers in the first five months of this year, data from the passenger-car association showed. \\n\\nChina’s biggest EV maker BYD, backed by Warren Buffett, sold some 900,000 cars, including hybrids, during the period, accounting for 38% of the segment that China classifies as new-energy vehicles. Li Auto, which produces more expensive hybrids, delivered more than 100,000 vehicles in the same period, emerging as one of China’s strongest rising players.\\n\\nSince early this year, dozens of carmakers in China have cut prices while dealers offered discounts and incentives to boost sales. In January, Tesla made steep price cuts in China. That move was quickly followed by local players, including XPeng and BYD. The latter trimmed prices for its flagship models in March.\\n\\nNIO, which had resisted cutting prices, saw monthly deliveries in April and May fall to some 6,000 vehicles from more than 10,000 in previous months. NIO’s problems were compounded by a slow rollout of new models to replace aging inventory that became less attractive to buyers, analysts say.\\n\\nElon Musk’s Tesla remains the No. 2 EV seller in China. PHOTO: CFOTO/ZUMA PRESS\\nDeclining sales weighed on its profitability, with its margin from new-car sales falling to 5% in the January-March quarter from 18% a year earlier. As of the end of March, NIO’s cash and other short-term liquidity had fallen by a third to $5 billion from a year earlier, while its debts stood at $2 billion.\\n\\nNIO’s CEO this month said the company now doesn’t expect to break even until at least the end of 2024, a year later than it previously forecast. It also delayed investment in fixed assets and some research and development.\\n\\nNIO cut sticker prices for all models available in China by $4,200 earlier this month, reflecting the withdrawal of a free battery-swapping service, one of its key selling points.\\n\\nThe Shanghai-based startup had allowed buyers to purchase the cars without batteries—one of the most expensive components of an EV—and sign up for a free program to change batteries in a few minutes at its facilities. By February, 57% of the electricity NIO drivers used to power their cars came from battery swaps, the company said. \\n\\nNew buyers now need to pay for the battery-swap service.\\n\\nNIO plans to add 1,000 battery-swapping facilities in China this year, taking the total to around 2,400, but the company has said it would need more users before the service can become profitable.\\n\\nPrice cuts should temporarily boost sales, but NIO may have to recalibrate its product and pricing strategy, said Tu Le, managing director of Sino Auto Insights, a research service specializing in China’s auto industry.\\n\\nIn May, NIO rolled out a revamped SUV ES6, which a sample study by Morgan Stanley said has boosted consumer visits at NIO’s stores.', metadata={'source': 'data/nio_stumbles.txt'})]"
      ]
     },
     "execution_count": 2,
     "metadata": {},
     "output_type": "execute_result"
    }
   ],
   "source": [
    "from langchain.document_loaders import TextLoader\n",
    "loader = TextLoader(\"data/nio_stumbles.txt\")\n",
    "documents = loader.load()\n",
    "documents"
   ]
  },
  {
   "cell_type": "code",
   "execution_count": 3,
   "metadata": {},
   "outputs": [
    {
     "data": {
      "text/plain": [
       "[Document(page_content='China’s ‘Tesla Killer’ Stumbles as EV Price War Takes Toll\\nNIO is among Chinese startups burning more cash to compete in world’s largest electric-vehicle market\\n\\nSINGAPORE—Electric-car startup NIO NIO -0.36%decrease; red down pointing triangle was dubbed China’s “Tesla killer” when it unveiled a sport-utility vehicle in 2017 that offered a sleek design, large-screen panel and voice-command features—all at half the price of a Model X.\\n\\nOne of China’s most vaunted EV startups, NIO is now a symbol of the challenges many automakers face amid a cutthroat price war in the world’s largest electric-vehicle market. Its sales have slumped in recent months, prompting the carmaker to slash prices, cut back investment and commit to burning more cash.\\n\\nChief Executive William Li said this month that New York Stock Exchange-listed NIO has to prudently manage liquidity risks as weak sales in the past two quarters weighed on its operating cash flow.', metadata={'source': 'data/nio_stumbles.txt'}),\n",
       " Document(page_content='An Abu Dhabi government-backed entity will invest around $740 million in NIO, the company said last week. Li said he expects sales to start rebounding in June as it recently launched a revamped SUV.\\n\\nNIO was slower than other automakers to cut prices, and its recent moves show how deeply the competition is hurting automakers’ bottom lines as well as rippling through supply chains. Some startups have been sidelined or killed after burning through cash in China’s crowded market, where the explosive growth of EV sales has slowed this year amid weak consumption and the end of nationwide subsidies for buyers.\\n\\nIndebted WM Motor earlier this year suspended most of its production, laid off employees and closed stores after running out of cash. The company is backed by Tencent Holdings and HongShan, which was formerly Sequoia Capital China. Letin Auto, famous for its $4,000 electric hatchback, filed for bankruptcy in May after failing to get new funds.', metadata={'source': 'data/nio_stumbles.txt'}),\n",
       " Document(page_content='XPeng, another popular U.S.-listed EV startup in China, has reported falling sales since September, despite offering more than 10% discounts on several vehicle models starting in January and launching a new model with more advanced self-driving capabilities. XPeng delivered almost 40% fewer cars so far this year than in the same period a year ago. \\n\\nThe company doesn’t have much time left to turn itself around as its net cash runs low while rivals catch up with its technology, according to a research note by analysts at CMB International, which downgraded the company’s stock in May.\\n\\nXPeng didn’t respond to requests for comment. \\n\\nOnce the darlings of investors looking for the next Tesla, EV companies globally are grappling with tighter liquidity, operating problems and intensified competition. American companies including Rivian Automotive and Lucid Group are among those facing rougher times as their cash reserves shrink.', metadata={'source': 'data/nio_stumbles.txt'}),\n",
       " Document(page_content='China’s EV and hybrid-vehicle sales growth have slipped in recent quarters from the triple-digit percentages commonly seen in 2021 and much of 2022. Sales rose 41% in the first five months of this year compared with a year earlier, according to the China Passenger Car Association.\\n\\n“Not everyone can survive in the market,” said Joel Ying, an auto analyst at Nomura. Startups are more vulnerable than legacy carmakers, which typically have the gas-powered vehicle business as cash cows, he added.\\n\\nBeijing is finalizing a package of stimulus measures to revive the country’s flagging economy and consumption, The Wall Street Journal has reported. China’s finance ministry last week extended the tax exemption on purchases of EVs and hybrids to the end of 2025.', metadata={'source': 'data/nio_stumbles.txt'}),\n",
       " Document(page_content='The country’s auto market is becoming more challenging for foreign brands, which are playing catch-up in the EV arena. Legacy automakers such as Ford Motor have flopped in China’s EV market, and Volkswagen—which dominated in gas-powered vehicles and sells popular EVs in other markets—has yet to have a model rank among the 10 top-selling EVs.\\n\\nTesla remains the No. 2 in the Chinese EV market, selling more than 200,000 cars to local buyers in the first five months of this year, data from the passenger-car association showed. \\n\\nChina’s biggest EV maker BYD, backed by Warren Buffett, sold some 900,000 cars, including hybrids, during the period, accounting for 38% of the segment that China classifies as new-energy vehicles. Li Auto, which produces more expensive hybrids, delivered more than 100,000 vehicles in the same period, emerging as one of China’s strongest rising players.', metadata={'source': 'data/nio_stumbles.txt'}),\n",
       " Document(page_content='Since early this year, dozens of carmakers in China have cut prices while dealers offered discounts and incentives to boost sales. In January, Tesla made steep price cuts in China. That move was quickly followed by local players, including XPeng and BYD. The latter trimmed prices for its flagship models in March.\\n\\nNIO, which had resisted cutting prices, saw monthly deliveries in April and May fall to some 6,000 vehicles from more than 10,000 in previous months. NIO’s problems were compounded by a slow rollout of new models to replace aging inventory that became less attractive to buyers, analysts say.\\n\\nElon Musk’s Tesla remains the No. 2 EV seller in China. PHOTO: CFOTO/ZUMA PRESS\\nDeclining sales weighed on its profitability, with its margin from new-car sales falling to 5% in the January-March quarter from 18% a year earlier. As of the end of March, NIO’s cash and other short-term liquidity had fallen by a third to $5 billion from a year earlier, while its debts stood at $2 billion.', metadata={'source': 'data/nio_stumbles.txt'}),\n",
       " Document(page_content='NIO’s CEO this month said the company now doesn’t expect to break even until at least the end of 2024, a year later than it previously forecast. It also delayed investment in fixed assets and some research and development.\\n\\nNIO cut sticker prices for all models available in China by $4,200 earlier this month, reflecting the withdrawal of a free battery-swapping service, one of its key selling points.\\n\\nThe Shanghai-based startup had allowed buyers to purchase the cars without batteries—one of the most expensive components of an EV—and sign up for a free program to change batteries in a few minutes at its facilities. By February, 57% of the electricity NIO drivers used to power their cars came from battery swaps, the company said. \\n\\nNew buyers now need to pay for the battery-swap service.\\n\\nNIO plans to add 1,000 battery-swapping facilities in China this year, taking the total to around 2,400, but the company has said it would need more users before the service can become profitable.', metadata={'source': 'data/nio_stumbles.txt'}),\n",
       " Document(page_content='Price cuts should temporarily boost sales, but NIO may have to recalibrate its product and pricing strategy, said Tu Le, managing director of Sino Auto Insights, a research service specializing in China’s auto industry.\\n\\nIn May, NIO rolled out a revamped SUV ES6, which a sample study by Morgan Stanley said has boosted consumer visits at NIO’s stores.', metadata={'source': 'data/nio_stumbles.txt'})]"
      ]
     },
     "execution_count": 3,
     "metadata": {},
     "output_type": "execute_result"
    }
   ],
   "source": [
    "# split the document \n",
    "text_splitter = CharacterTextSplitter(chunk_size=1000, chunk_overlap=30)\n",
    "documents = text_splitter.split_documents(documents)\n",
    "documents"
   ]
  },
  {
   "cell_type": "code",
   "execution_count": 4,
   "metadata": {},
   "outputs": [
    {
     "data": {
      "text/plain": [
       "<langchain.vectorstores.chroma.Chroma at 0x7fcde050b700>"
      ]
     },
     "execution_count": 4,
     "metadata": {},
     "output_type": "execute_result"
    }
   ],
   "source": [
    "# create in-memory embeddings for each document \n",
    "embeddings = OpenAIEmbeddings()\n",
    "vectorstore = Chroma.from_documents(documents, embeddings)\n",
    "vectorstore"
   ]
  },
  {
   "cell_type": "code",
   "execution_count": 5,
   "metadata": {},
   "outputs": [],
   "source": [
    "# need a memory object so that the qa chain is context aware\n",
    "from langchain.memory import ConversationBufferMemory\n",
    "memory = ConversationBufferMemory(memory_key=\"chat_history\", return_messages=True)"
   ]
  },
  {
   "cell_type": "code",
   "execution_count": 6,
   "metadata": {},
   "outputs": [
    {
     "name": "stdout",
     "output_type": "stream",
     "text": [
      "BaseConversationalRetrievalChain condensed question: Who is NIO top competitor?\n"
     ]
    },
    {
     "data": {
      "text/plain": [
       "\" NIO's top competitor is Tesla.\""
      ]
     },
     "execution_count": 6,
     "metadata": {},
     "output_type": "execute_result"
    }
   ],
   "source": [
    "# An implementation detail:\n",
    "# Normally we only need to create an embedding for the quesiton itself to fetch for relevant context\n",
    "# This is not enough for Conversational based retrivel, as the question doesn't contain context\n",
    "# To solve this, for each question, we rephrase it using the chat history to formulate a standalone\n",
    "# question. \n",
    "\n",
    "qa = ConversationalRetrievalChain.from_llm(OpenAI(temperature=0), vectorstore.as_retriever(), memory=memory)\n",
    "query = \"Who is NIO top competitor?\"\n",
    "result = qa({\"question\": query})\n",
    "result[\"answer\"]"
   ]
  },
  {
   "cell_type": "code",
   "execution_count": 7,
   "metadata": {},
   "outputs": [
    {
     "name": "stdout",
     "output_type": "stream",
     "text": [
      "BaseConversationalRetrievalChain condensed question:  What makes Tesla a strong competitor to NIO?\n"
     ]
    },
    {
     "data": {
      "text/plain": [
       "' Tesla has been able to maintain strong sales in China, selling more than 200,000 cars to local buyers in the first five months of this year. Tesla also has a well-known brand and has been able to offer competitive prices.'"
      ]
     },
     "execution_count": 7,
     "metadata": {},
     "output_type": "execute_result"
    }
   ],
   "source": [
    "query = \"Why is it a strong competitor?\"\n",
    "result = qa({\"question\": query})\n",
    "result[\"answer\"]"
   ]
  },
  {
   "cell_type": "code",
   "execution_count": 8,
   "metadata": {},
   "outputs": [
    {
     "name": "stdout",
     "output_type": "stream",
     "text": [
      "BaseConversationalRetrievalChain condensed question: Who is NIO top competitor?\n"
     ]
    },
    {
     "data": {
      "text/plain": [
       "\" NIO's top competitor is Tesla.\""
      ]
     },
     "execution_count": 8,
     "metadata": {},
     "output_type": "execute_result"
    }
   ],
   "source": [
    "# Alternatively, we can pass in chat history to QA chain manually \n",
    "qa = ConversationalRetrievalChain.from_llm(OpenAI(temperature=0), vectorstore.as_retriever())\n",
    "tesla_query = \"Who is NIO top competitor?\"\n",
    "tesla_result = qa({\"question\": tesla_query, \"chat_history\": []})\n",
    "tesla_result[\"answer\"]"
   ]
  },
  {
   "cell_type": "code",
   "execution_count": 9,
   "metadata": {},
   "outputs": [
    {
     "name": "stdout",
     "output_type": "stream",
     "text": [
      "BaseConversationalRetrievalChain condensed question:  What makes Tesla a strong competitor to NIO?\n"
     ]
    },
    {
     "data": {
      "text/plain": [
       "' Tesla has been able to maintain strong sales in China, selling more than 200,000 cars to local buyers in the first five months of this year. Tesla also has a well-known brand and has been able to offer competitive prices.'"
      ]
     },
     "execution_count": 9,
     "metadata": {},
     "output_type": "execute_result"
    }
   ],
   "source": [
    "# Cont. \n",
    "chat_history = [(tesla_query, tesla_result[\"answer\"])]\n",
    "query = \"Why is it a strong competitor?\"\n",
    "result = qa({\"question\": query, \"chat_history\": chat_history})\n",
    "result[\"answer\"]"
   ]
  },
  {
   "cell_type": "code",
   "execution_count": null,
   "metadata": {},
   "outputs": [],
   "source": []
  }
 ],
 "metadata": {
  "kernelspec": {
   "display_name": "base",
   "language": "python",
   "name": "python3"
  },
  "language_info": {
   "codemirror_mode": {
    "name": "ipython",
    "version": 3
   },
   "file_extension": ".py",
   "mimetype": "text/x-python",
   "name": "python",
   "nbconvert_exporter": "python",
   "pygments_lexer": "ipython3",
   "version": "3.9.7"
  },
  "orig_nbformat": 4
 },
 "nbformat": 4,
 "nbformat_minor": 2
}
