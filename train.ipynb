{
 "cells": [
  {
   "cell_type": "markdown",
   "metadata": {},
   "source": [
    "# Distributed training with QPS optimizations\n",
    "\n",
    "In this notebook we look at a range of techniques to speed up the training of a transformer model. We will then adopt distributed data parallel and full use of the 8 GPUs on a single node. We will work with shakespeare texts. "
   ]
  },
  {
   "cell_type": "markdown",
   "metadata": {},
   "source": [
    "# Prepare data"
   ]
  },
  {
   "cell_type": "code",
   "execution_count": 1,
   "metadata": {},
   "outputs": [],
   "source": [
    "import torch\n"
   ]
  },
  {
   "cell_type": "code",
   "execution_count": 2,
   "metadata": {},
   "outputs": [
    {
     "name": "stdout",
     "output_type": "stream",
     "text": [
      "First Citizen:\n",
      "Before we proceed any further, hear me speak.\n",
      "\n",
      "All:\n",
      "Speak, speak.\n",
      "\n",
      "First Citizen:\n",
      "You are all resolved rather to die than to famish?\n",
      "\n",
      "All:\n",
      "Resolved. resolved.\n",
      "\n",
      "First Citizen:\n",
      "First, you know Caius Marcius is chief enemy to the people.\n",
      "\n",
      "All:\n",
      "We know't, we know't.\n",
      "\n",
      "First Citizen:\n",
      "Let us kill him, and we'll have corn at our own price.\n",
      "Is't a verdict?\n",
      "\n",
      "All:\n",
      "No more talking on't; let it be done: away, away!\n",
      "\n",
      "Second Citizen:\n",
      "One word, good citizens.\n",
      "\n",
      "First Citizen:\n",
      "We are accounted poor citizens, the patricians good.\n",
      "What authority surfeits on would relieve us: if they\n",
      "would yield us but the superfluity, while it were\n",
      "wholesome, we might guess they relieved us humanely;\n",
      "but they think we are too dear: the leanness that\n",
      "afflicts us, the object of our misery, is as an\n",
      "inventory to particularise their abundance; our\n",
      "sufferance is a gain to them Let us revenge this with\n",
      "our pikes, ere we become rakes: for the gods know I\n",
      "speak this in hunger for bread, not in thirst for revenge.\n",
      "\n",
      "\n"
     ]
    }
   ],
   "source": [
    "with open('shakespeare.txt', 'r') as f:\n",
    "    text = f.read()\n",
    "print(text[:1000])"
   ]
  },
  {
   "cell_type": "code",
   "execution_count": 3,
   "metadata": {},
   "outputs": [
    {
     "name": "stdout",
     "output_type": "stream",
     "text": [
      "\n",
      " !$&',-.3:;?ABCDEFGHIJKLMNOPQRSTUVWXYZabcdefghijklmnopqrstuvwxyz\n"
     ]
    }
   ],
   "source": [
    "chars = sorted(list(set(text)))\n",
    "char_to_ix = {ch:i for i,ch in enumerate(chars)}\n",
    "ix_to_char = {i:ch for i,ch in enumerate(chars)}\n",
    "\n",
    "def encode(text):\n",
    "    return [char_to_ix[ch] for ch in text]\n",
    "\n",
    "def decode(vec):\n",
    "    return ''.join([ix_to_char[ix] for ix in vec])\n",
    "\n",
    "print(''.join(chars))"
   ]
  },
  {
   "cell_type": "code",
   "execution_count": 4,
   "metadata": {},
   "outputs": [
    {
     "name": "stdout",
     "output_type": "stream",
     "text": [
      "torch.Size([1115394])\n",
      "tensor([18, 47, 56, 57, 58,  1, 15, 47, 58, 47, 64, 43, 52, 10,  0, 14, 43, 44,\n",
      "        53, 56, 43,  1, 61, 43,  1, 54, 56, 53, 41, 43, 43, 42,  1, 39, 52, 63,\n",
      "         1, 44, 59, 56, 58, 46, 43, 56,  6,  1, 46, 43, 39, 56,  1, 51, 43,  1,\n",
      "        57, 54, 43, 39, 49,  8,  0,  0, 13, 50, 50, 10,  0, 31, 54, 43, 39, 49,\n",
      "         6,  1, 57, 54, 43, 39, 49,  8,  0,  0, 18, 47, 56, 57, 58,  1, 15, 47,\n",
      "        58, 47, 64, 43, 52, 10,  0, 37, 53, 59])\n"
     ]
    }
   ],
   "source": [
    "text_vec = encode(text)\n",
    "data = torch.tensor(text_vec, dtype=torch.long)\n",
    "print(data.shape)\n",
    "print(data[:100])"
   ]
  },
  {
   "cell_type": "code",
   "execution_count": 5,
   "metadata": {},
   "outputs": [],
   "source": [
    "n = int(0.9 * len(data))\n",
    "train_data, val_data = data[:n], data[n:]"
   ]
  },
  {
   "cell_type": "code",
   "execution_count": 6,
   "metadata": {},
   "outputs": [
    {
     "name": "stdout",
     "output_type": "stream",
     "text": [
      "torch.Size([4, 8]) torch.Size([4, 8])\n",
      "tensor([[24, 43, 58,  5, 57,  1, 46, 43],\n",
      "        [44, 53, 56,  1, 58, 46, 39, 58],\n",
      "        [52, 58,  1, 58, 46, 39, 58,  1],\n",
      "        [25, 17, 27, 10,  0, 21,  1, 54]])\n",
      "tensor([[43, 58,  5, 57,  1, 46, 43, 39],\n",
      "        [53, 56,  1, 58, 46, 39, 58,  1],\n",
      "        [58,  1, 58, 46, 39, 58,  1, 46],\n",
      "        [17, 27, 10,  0, 21,  1, 54, 39]])\n"
     ]
    }
   ],
   "source": [
    "torch.manual_seed(1337)\n",
    "\n",
    "def get_batch(split, batch_size, block_size):\n",
    "    \"\"\"\n",
    "    Each data is multiple examples\n",
    "    \"\"\"\n",
    "    if split == 'train':\n",
    "        data = train_data\n",
    "    else:\n",
    "        # (N x 1)\n",
    "        data = val_data\n",
    "    # B x 1\n",
    "    start = torch.randint(0, len(data) - block_size, (batch_size,))\n",
    "    # [1, 2, 3, 4, 5], block_size = 3\n",
    "    # [[1, 2, 3], [2, 3, 4], [3, 4, 5]]\n",
    "    x = torch.stack([data[s:s+block_size] for s in start])\n",
    "    # [[2, 3, 4], [3, 4, 5], [4, 5, 6]]\n",
    "    y = torch.stack([data[s+1:s+block_size+1] for s in start])\n",
    "    return x, y\n",
    "\n",
    "x, y = get_batch('train', 4, 8)\n",
    "# this is 4 * 8 samples \n",
    "print(x.shape, y.shape)\n",
    "print(x)\n",
    "print(y)"
   ]
  },
  {
   "cell_type": "code",
   "execution_count": 7,
   "metadata": {},
   "outputs": [],
   "source": [
    "@torch.no_grad()\n",
    "def estimate_loss(batch_size, block_size, eval_iters=100):\n",
    "    out = {}\n",
    "    m.eval()\n",
    "    for split in ['train', 'val']:\n",
    "        losses = torch.zeros(eval_iters)\n",
    "        for k in range(eval_iters):\n",
    "            x, y = get_batch(split, batch_size, block_size)\n",
    "            logits, loss = m(x, y)\n",
    "            losses[k] = loss\n",
    "        out[f'{split}_loss'] = losses.mean().item()\n",
    "    m.train()\n",
    "    return out "
   ]
  },
  {
   "cell_type": "code",
   "execution_count": 8,
   "metadata": {},
   "outputs": [],
   "source": [
    "# training loop\n",
    "def train(model, optimizer, batch_size, block_size, num_steps, eval_iters=100):\n",
    "    for step in range(num_steps):\n",
    "        x, y = get_batch('train', batch_size, block_size)\n",
    "        optimizer.zero_grad(set_to_none=True)\n",
    "        logits, loss = model(x, y)\n",
    "        loss.backward()\n",
    "        optimizer.step()\n",
    "        \n",
    "        if step % 500 == 0:\n",
    "            print(estimate_loss(batch_size, block_size, eval_iters))\n",
    "\n",
    "    return loss"
   ]
  },
  {
   "cell_type": "markdown",
   "metadata": {},
   "source": [
    "# Transformer model"
   ]
  },
  {
   "cell_type": "code",
   "execution_count": 9,
   "metadata": {},
   "outputs": [],
   "source": [
    "class FeedForward(torch.nn.Module):\n",
    "    def __init__(self, in_size, dropout):\n",
    "        super().__init__()\n",
    "        self.net = torch.nn.Sequential(\n",
    "            torch.nn.Linear(in_size, in_size * 4),\n",
    "            torch.nn.ReLU(),\n",
    "            torch.nn.Linear(in_size * 4, in_size),\n",
    "            # add dropout\n",
    "            torch.nn.Dropout(dropout)\n",
    "        )\n",
    "\n",
    "    def forward(self, x):\n",
    "        return self.net(x)"
   ]
  },
  {
   "cell_type": "code",
   "execution_count": 10,
   "metadata": {},
   "outputs": [],
   "source": [
    "class Head(torch.nn.Module):\n",
    "    def __init__(self, emb_size, head_size, dropout):\n",
    "        super().__init__()\n",
    "        self.emb_size = emb_size\n",
    "        self.k = torch.nn.Linear(emb_size, head_size)\n",
    "        self.q = torch.nn.Linear(emb_size, head_size)\n",
    "        self.v = torch.nn.Linear(emb_size, head_size)\n",
    "        # add dropout\n",
    "        self.dropout = torch.nn.Dropout(dropout)\n",
    "    \n",
    "    def forward(self, x):\n",
    "        # x: B x T x E\n",
    "        B, T, E = x.shape\n",
    "        # B x T x L\n",
    "        k = self.k(x)\n",
    "        # B x T x L\n",
    "        q = self.q(x)\n",
    "        # B x T x L\n",
    "        v = self.v(x)\n",
    "        # B x T x T\n",
    "        att = k @ q.transpose(-2, -1)\n",
    "        att = att / (k.shape[-1] ** 0.5)\n",
    "        # B x T x T\n",
    "        mask = torch.tril(torch.ones(T, T))\n",
    "        # B x T x T\n",
    "        masked_att = att.masked_fill(mask == 0, float('-inf'))\n",
    "        # B x T x T\n",
    "        masked_att = torch.nn.functional.softmax(masked_att, dim=-1)\n",
    "        masked_att = self.dropout(masked_att)\n",
    "        # B x T x L\n",
    "        att_bow = masked_att @ v\n",
    "        return att_bow"
   ]
  },
  {
   "cell_type": "code",
   "execution_count": 11,
   "metadata": {},
   "outputs": [],
   "source": [
    "class MultiHeadAttention(torch.nn.Module):\n",
    "    def __init__(self, in_size, head_size, num_heads, dropout):\n",
    "        super().__init__()\n",
    "        self.heads = torch.nn.ModuleList([\n",
    "            Head(in_size, head_size, dropout) for _ in range(num_heads)\n",
    "        ])\n",
    "        self.proj = torch.nn.Linear(head_size*num_heads, in_size)\n",
    "        # add dropout\n",
    "        self.dropout = torch.nn.Dropout(dropout)\n",
    "    \n",
    "    def forward(self, x):\n",
    "        # x: B x T x E\n",
    "        B, T, E = x.shape\n",
    "        # B x T x n x H\n",
    "        att_bows = torch.stack([head(x) for head in self.heads], dim=2)\n",
    "        # B x T x n*H\n",
    "        att_bows = att_bows.view(B, T, -1)\n",
    "        # B x T x E\n",
    "        out = self.proj(att_bows)\n",
    "        out = self.dropout(out)\n",
    "        return out"
   ]
  },
  {
   "cell_type": "code",
   "execution_count": 12,
   "metadata": {},
   "outputs": [],
   "source": [
    "class ResidualBlock(torch.nn.Module):\n",
    "    def __init__(self, in_size, head_size, num_heads, dropout):\n",
    "        super().__init__()\n",
    "        self.multihead = MultiHeadAttention(in_size, head_size, num_heads, dropout)\n",
    "        self.feedforward = FeedForward(in_size, dropout)\n",
    "        self.layernorm1 = torch.nn.LayerNorm(in_size)\n",
    "        self.layernorm2 = torch.nn.LayerNorm(in_size)\n",
    "    \n",
    "    def forward(self, x):\n",
    "        # x: B x T x in\n",
    "        # B x T x in\n",
    "        x = self.layernorm1(x)\n",
    "        # B x T x in_size\n",
    "        x = x + self.multihead(x)\n",
    "        # B x T x in_size\n",
    "        x = self.layernorm2(x)\n",
    "        # B x T x in_size\n",
    "        x = x + self.feedforward(x)\n",
    "        return x"
   ]
  },
  {
   "cell_type": "code",
   "execution_count": 13,
   "metadata": {},
   "outputs": [],
   "source": [
    "class AttentionModel(torch.nn.Module):\n",
    "    def __init__(self, block_size, vocab_size, num_heads, hidden_size, num_blocks, dropout):\n",
    "        super().__init__()\n",
    "        self.block_size = block_size\n",
    "        self.token_emb = torch.nn.Embedding(vocab_size, hidden_size)\n",
    "        self.position_emb = torch.nn.Embedding(block_size, hidden_size)\n",
    "        self.blocks = torch.nn.ModuleList([\n",
    "                ResidualBlock(hidden_size, hidden_size // num_heads, num_heads, dropout) for _ in range(num_blocks)\n",
    "            ] + [\n",
    "                torch.nn.LayerNorm(hidden_size)\n",
    "            ]\n",
    "        )\n",
    "        self.out = torch.nn.Linear(hidden_size, vocab_size)\n",
    "        \n",
    "    def forward(self, idx, target):\n",
    "        # idx: B x T\n",
    "        B, T = idx.shape\n",
    "        # B x T x E (hidden_size)\n",
    "        token_emb = self.token_emb(idx)  \n",
    "        # position_idx: block_size\n",
    "        position_idx = torch.arange(T)\n",
    "        # position_emb: block_size x emb_size\n",
    "        position_emb = self.position_emb(position_idx)\n",
    "        # B x T x E\n",
    "        x = token_emb + position_emb\n",
    "        # B x T x E\n",
    "        for block in self.blocks:\n",
    "            x = block(x)   \n",
    "        # B x T x C\n",
    "        logits = self.out(x)\n",
    "        \n",
    "        if target is not None:\n",
    "            # target: B x block_size\n",
    "            target = target.view(-1)\n",
    "            # B*block_size x vocab_size\n",
    "            logits = logits.view(B*T, -1)\n",
    "            loss = torch.nn.functional.cross_entropy(logits, target)\n",
    "            # B x block_size x vocab_size\n",
    "            logits = logits.view(B, T, -1)\n",
    "        else:\n",
    "            loss = None\n",
    "        return logits, loss \n",
    "\n",
    "    def generate(self, idx, max_new_tokens):\n",
    "        # idx: B x T\n",
    "        for _ in range(max_new_tokens):\n",
    "            # B x T x C\n",
    "            logits, _ = self(idx[:, -self.block_size:], None)\n",
    "            # only interested in prediction from last token\n",
    "            # B x 1 x C\n",
    "            logits = logits[:, -1, :]\n",
    "            # B x 1 x C\n",
    "            probs = torch.nn.functional.softmax(logits, dim=-1)\n",
    "            # B x 1\n",
    "            n = torch.multinomial(probs, num_samples=1)\n",
    "            # B x T+1\n",
    "            idx = torch.cat([idx, n], dim=1)\n",
    "        return idx"
   ]
  },
  {
   "cell_type": "code",
   "execution_count": 16,
   "metadata": {},
   "outputs": [
    {
     "name": "stdout",
     "output_type": "stream",
     "text": [
      "{'train_loss': 4.293725967407227, 'val_loss': 4.292873382568359}\n",
      "{'train_loss': 2.8864548206329346, 'val_loss': 2.9066147804260254}\n"
     ]
    },
    {
     "data": {
      "text/plain": [
       "tensor(2.6806, grad_fn=<NllLossBackward0>)"
      ]
     },
     "execution_count": 16,
     "metadata": {},
     "output_type": "execute_result"
    }
   ],
   "source": [
    "block_size = 16\n",
    "m = AttentionModel(\n",
    "    block_size=block_size, \n",
    "    vocab_size=len(chars), \n",
    "    num_heads=3,\n",
    "    hidden_size=32,\n",
    "    num_blocks=2,\n",
    "    dropout=0.2,\n",
    ")\n",
    "optimizer = torch.optim.AdamW(m.parameters(), lr=0.0003)\n",
    "train(\n",
    "    model=m, \n",
    "    optimizer=optimizer, \n",
    "    batch_size=16,  \n",
    "    block_size=block_size,\n",
    "    num_steps=1000,\n",
    "    eval_iters=50,\n",
    ")"
   ]
  },
  {
   "cell_type": "code",
   "execution_count": null,
   "metadata": {},
   "outputs": [],
   "source": []
  }
 ],
 "metadata": {
  "kernelspec": {
   "display_name": "base",
   "language": "python",
   "name": "python3"
  },
  "language_info": {
   "codemirror_mode": {
    "name": "ipython",
    "version": 3
   },
   "file_extension": ".py",
   "mimetype": "text/x-python",
   "name": "python",
   "nbconvert_exporter": "python",
   "pygments_lexer": "ipython3",
   "version": "3.9.7"
  }
 },
 "nbformat": 4,
 "nbformat_minor": 2
}
